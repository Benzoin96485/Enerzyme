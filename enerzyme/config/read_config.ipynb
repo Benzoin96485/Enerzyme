{
 "cells": [
  {
   "cell_type": "code",
   "execution_count": 2,
   "metadata": {},
   "outputs": [
    {
     "name": "stderr",
     "output_type": "stream",
     "text": [
      "2024-08-08 13:19:18 | enerzyme/utils/config_handler.py:22 | INFO | Enerzyme | yaml handler load path: full.yaml\n"
     ]
    }
   ],
   "source": [
    "from enerzyme.utils.config_handler import YamlHandler\n",
    "yaml = YamlHandler(\"full.yaml\")"
   ]
  },
  {
   "cell_type": "code",
   "execution_count": 5,
   "metadata": {},
   "outputs": [
    {
     "data": {
      "text/plain": [
       "{'dim_embedding': 64,\n",
       " 'num_rbf': 16,\n",
       " 'max_Za': 87,\n",
       " 'cutoff_sr': 5.291772105638412,\n",
       " 'Hartree_in_E': 1,\n",
       " 'Bohr_in_R': 0.5291772108,\n",
       " 'activation_fn': 'swish'}"
      ]
     },
     "execution_count": 5,
     "metadata": {},
     "output_type": "execute_result"
    }
   ],
   "source": [
    "yaml.read_yaml().Modelhub.internal_FFs.FF02.build_params"
   ]
  },
  {
   "cell_type": "code",
   "execution_count": 6,
   "metadata": {},
   "outputs": [
    {
     "data": {
      "text/plain": [
       "[{'name': 'RangeSeparation'},\n",
       " {'name': 'ExponentialBernsteinRBF',\n",
       "  'params': {'no_basis_at_infinity': False,\n",
       "   'init_alpha': 0.944863062918464,\n",
       "   'exp_weighting': False,\n",
       "   'learnable_shape': True,\n",
       "   'cutoff_fn': 'bump'}},\n",
       " {'name': 'NuclearEmbedding',\n",
       "  'params': {'zero_init': True, 'use_electron_config': True}},\n",
       " {'name': 'ElectronicEmbedding',\n",
       "  'params': {'num_residual': 1, 'attribute': 'charge'}},\n",
       " {'name': 'ElectronicEmbedding',\n",
       "  'params': {'num_residual': 1, 'attribute': 'spin'}},\n",
       " {'name': 'Core',\n",
       "  'params': {'num_modules': 3,\n",
       "   'num_residual_pre': 1,\n",
       "   'num_residual_local_x': 1,\n",
       "   'num_residual_local_s': 1,\n",
       "   'num_residual_local_p': 1,\n",
       "   'num_residual_local_d': 1,\n",
       "   'num_residual_local': 1,\n",
       "   'num_residual_nonlocal_q': 1,\n",
       "   'num_residual_nonlocal_k': 1,\n",
       "   'num_residual_nonlocal_v': 1,\n",
       "   'num_residual_post': 1,\n",
       "   'num_residual_output': 1,\n",
       "   'use_irreps': True,\n",
       "   'dropout_rate': 0.0}},\n",
       " {'name': 'AtomicAffine',\n",
       "  'params': {'shifts': {'Ea': {'values': 0, 'learnable': True},\n",
       "    'Qa': {'values': 0, 'learnable': True}},\n",
       "   'scales': {'Ea': {'values': 1, 'learnable': True},\n",
       "    'Qa': {'values': 1, 'learnable': True}}}},\n",
       " {'name': 'ChargeConservation'},\n",
       " {'name': 'AtomicCharge2Dipole'},\n",
       " {'name': 'ZBLRepulsionEnergy'},\n",
       " {'name': 'ElectrostaticEnergy',\n",
       "  'params': {'lr_flavor': 'smooth', 'half_switch': False}},\n",
       " {'name': 'GrimmeD4Energy', 'params': {'learnable': True}},\n",
       " {'name': 'EnergyReduce'},\n",
       " {'name': 'Force'}]"
      ]
     },
     "execution_count": 6,
     "metadata": {},
     "output_type": "execute_result"
    }
   ],
   "source": [
    "yaml.read_yaml().Modelhub.internal_FFs.FF02.layers"
   ]
  }
 ],
 "metadata": {
  "kernelspec": {
   "display_name": "base",
   "language": "python",
   "name": "python3"
  },
  "language_info": {
   "codemirror_mode": {
    "name": "ipython",
    "version": 3
   },
   "file_extension": ".py",
   "mimetype": "text/x-python",
   "name": "python",
   "nbconvert_exporter": "python",
   "pygments_lexer": "ipython3",
   "version": "3.10.12"
  }
 },
 "nbformat": 4,
 "nbformat_minor": 2
}

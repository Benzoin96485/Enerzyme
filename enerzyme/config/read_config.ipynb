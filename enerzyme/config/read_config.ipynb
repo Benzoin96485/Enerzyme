{
 "cells": [
  {
   "cell_type": "code",
   "execution_count": 2,
   "metadata": {},
   "outputs": [
    {
     "name": "stderr",
     "output_type": "stream",
     "text": [
      "2024-08-07 15:35:08 | enerzyme/utils/config_handler.py:22 | INFO | Enerzyme | yaml handler load path: full.yaml\n"
     ]
    }
   ],
   "source": [
    "from enerzyme.utils.config_handler import YamlHandler\n",
    "yaml = YamlHandler(\"full.yaml\")"
   ]
  },
  {
   "cell_type": "code",
   "execution_count": 12,
   "metadata": {},
   "outputs": [
    {
     "data": {
      "text/plain": [
       "[{'name': 'Distance'},\n",
       " {'name': 'ExponentialGaussianRBF',\n",
       "  'params': {'no_basis_at_infinity': False,\n",
       "   'init_alpha': 1,\n",
       "   'exp_weighting': False,\n",
       "   'learnable_shape': True,\n",
       "   'init_width_flavor': 'PhysNet'}},\n",
       " {'name': 'RandomAtomEmbedding'},\n",
       " {'name': 'Core',\n",
       "  'params': {'num_blocks': 5,\n",
       "   'num_residual_atomic': 2,\n",
       "   'num_residual_interaction': 3,\n",
       "   'num_residual_output': 1,\n",
       "   'activation_fn': 'shifted_softplus',\n",
       "   'activation_params': {'dim_feature': 1,\n",
       "    'initial_alpha': 1,\n",
       "    'initial_beta': 1,\n",
       "    'learnable': False},\n",
       "   'dropout_rate': 0.0}},\n",
       " {'name': 'AtomicAffine',\n",
       "  'params': {'shifts': {'Ea': {'values': 0, 'learnable': True},\n",
       "    'Qa': {'values': 0, 'learnable': True}},\n",
       "   'scales': {'Ea': {'values': 1, 'learnable': True},\n",
       "    'Qa': {'values': 1, 'learnable': True}}}},\n",
       " {'name': 'ChargeConservation'},\n",
       " {'name': 'AtomicCharge2Dipole'},\n",
       " {'name': 'ElectrostaticEnergy',\n",
       "  'params': {'lr_flavor': 'simple', 'half_switch': True}},\n",
       " {'name': 'GrimmeD3Energy', 'params': {'learnable': True}},\n",
       " {'name': 'EnergyReduce'},\n",
       " {'name': 'Force'}]"
      ]
     },
     "execution_count": 12,
     "metadata": {},
     "output_type": "execute_result"
    }
   ],
   "source": [
    "yaml.read_yaml().Modelhub.internal_FFs.FF01.layers"
   ]
  }
 ],
 "metadata": {
  "kernelspec": {
   "display_name": "base",
   "language": "python",
   "name": "python3"
  },
  "language_info": {
   "codemirror_mode": {
    "name": "ipython",
    "version": 3
   },
   "file_extension": ".py",
   "mimetype": "text/x-python",
   "name": "python",
   "nbconvert_exporter": "python",
   "pygments_lexer": "ipython3",
   "version": "3.10.12"
  }
 },
 "nbformat": 4,
 "nbformat_minor": 2
}

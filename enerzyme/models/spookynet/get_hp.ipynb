{
 "cells": [
  {
   "cell_type": "code",
   "execution_count": 1,
   "metadata": {},
   "outputs": [],
   "source": [
    "import torch"
   ]
  },
  {
   "cell_type": "code",
   "execution_count": 5,
   "metadata": {},
   "outputs": [
    {
     "name": "stdout",
     "output_type": "stream",
     "text": [
      "activation swish\n",
      "num_features 64\n",
      "num_basis_functions 16\n",
      "num_modules 3\n",
      "num_residual_electron 1\n",
      "num_residual_pre 1\n",
      "num_residual_local_x 1\n",
      "num_residual_local_s 1\n",
      "num_residual_local_p 1\n",
      "num_residual_local_d 1\n",
      "num_residual_local 1\n",
      "num_residual_nonlocal_q 1\n",
      "num_residual_nonlocal_k 1\n",
      "num_residual_nonlocal_v 1\n",
      "num_residual_post 1\n",
      "num_residual_output 1\n",
      "basis_functions exp-bernstein\n",
      "exp_weighting True\n",
      "cutoff 5.291772105638412\n",
      "lr_cutoff None\n",
      "use_zbl_repulsion True\n",
      "use_electrostatics True\n",
      "use_d4_dispersion True\n",
      "use_irreps True\n",
      "use_nonlinear_embedding False\n",
      "compute_d4_atomic False\n",
      "module_keep_prob 0.9\n",
      "Zmax 87\n"
     ]
    }
   ],
   "source": [
    "for k, v in torch.load(\"hyperparams.pth\", map_location=\"cpu\").items():\n",
    "    if k != \"state_dict\":\n",
    "        print(k,v)"
   ]
  }
 ],
 "metadata": {
  "kernelspec": {
   "display_name": "base",
   "language": "python",
   "name": "python3"
  },
  "language_info": {
   "codemirror_mode": {
    "name": "ipython",
    "version": 3
   },
   "file_extension": ".py",
   "mimetype": "text/x-python",
   "name": "python",
   "nbconvert_exporter": "python",
   "pygments_lexer": "ipython3",
   "version": "3.10.12"
  }
 },
 "nbformat": 4,
 "nbformat_minor": 2
}

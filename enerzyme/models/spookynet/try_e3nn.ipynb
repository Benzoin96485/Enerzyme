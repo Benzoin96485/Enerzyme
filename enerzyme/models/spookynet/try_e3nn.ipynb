{
 "cells": [
  {
   "cell_type": "code",
   "execution_count": 14,
   "metadata": {},
   "outputs": [],
   "source": [
    "from e3nn.o3 import spherical_harmonics as sh\n",
    "import torch\n",
    "import math"
   ]
  },
  {
   "cell_type": "code",
   "execution_count": 36,
   "metadata": {},
   "outputs": [
    {
     "data": {
      "text/plain": [
       "tensor([[0.2673, 0.5345, 0.8018],\n",
       "        [0.4364, 0.2182, 0.8729]])"
      ]
     },
     "execution_count": 36,
     "metadata": {},
     "output_type": "execute_result"
    }
   ],
   "source": [
    "vij = torch.tensor([[1.0,2,3],[2,1,4]])\n",
    "Dij = torch.linalg.norm(vij, dim=1, keepdim=True)\n",
    "pij = vij / Dij\n",
    "pij"
   ]
  },
  {
   "cell_type": "code",
   "execution_count": 38,
   "metadata": {},
   "outputs": [
    {
     "data": {
      "text/plain": [
       "tensor([[ 0.2474,  0.3712,  0.7423,  0.4643, -0.1856],\n",
       "        [ 0.1650,  0.6598,  0.3299,  0.6429,  0.1237]])"
      ]
     },
     "execution_count": 38,
     "metadata": {},
     "output_type": "execute_result"
    }
   ],
   "source": [
    "_sqrt3 = math.sqrt(3.0)\n",
    "_sqrt3half = 0.5 * _sqrt3\n",
    "p = torch.stack(\n",
    "    [\n",
    "        _sqrt3 * pij[:, 0] * pij[:, 1],  # xy\n",
    "        _sqrt3 * pij[:, 0] * pij[:, 2],  # xz\n",
    "        _sqrt3 * pij[:, 1] * pij[:, 2],  # yz\n",
    "        0.5 * (3 * pij[:, 2] * pij[:, 2] - 1.0),  # z2\n",
    "        _sqrt3half * (pij[:, 0] * pij[:, 0] - pij[:, 1] * pij[:, 1]),  # x2-y2\n",
    "    ],\n",
    "    dim=-1,\n",
    ")\n",
    "p"
   ]
  },
  {
   "cell_type": "code",
   "execution_count": 62,
   "metadata": {},
   "outputs": [
    {
     "data": {
      "text/plain": [
       "tensor([[ 0.2474,  0.3712,  0.7423,  0.4643, -0.1856],\n",
       "        [ 0.1650,  0.6598,  0.3299,  0.6429,  0.1237]])"
      ]
     },
     "execution_count": 62,
     "metadata": {},
     "output_type": "execute_result"
    }
   ],
   "source": [
    "\n",
    "sh(2, pij[:, [1,2,0]], normalize=True, normalization=\"norm\")[:, [0,3,1,2,4]]"
   ]
  },
  {
   "cell_type": "code",
   "execution_count": null,
   "metadata": {},
   "outputs": [],
   "source": []
  }
 ],
 "metadata": {
  "kernelspec": {
   "display_name": "base",
   "language": "python",
   "name": "python3"
  },
  "language_info": {
   "codemirror_mode": {
    "name": "ipython",
    "version": 3
   },
   "file_extension": ".py",
   "mimetype": "text/x-python",
   "name": "python",
   "nbconvert_exporter": "python",
   "pygments_lexer": "ipython3",
   "version": "3.10.12"
  }
 },
 "nbformat": 4,
 "nbformat_minor": 2
}
